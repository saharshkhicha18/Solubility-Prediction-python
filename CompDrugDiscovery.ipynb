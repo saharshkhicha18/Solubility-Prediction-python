{
  "nbformat": 4,
  "nbformat_minor": 0,
  "metadata": {
    "colab": {
      "name": "CompDrugDiscovery.ipynb",
      "provenance": [],
      "collapsed_sections": [],
      "include_colab_link": true
    },
    "kernelspec": {
      "name": "python3",
      "display_name": "Python 3"
    }
  },
  "cells": [
    {
      "cell_type": "markdown",
      "metadata": {
        "id": "view-in-github",
        "colab_type": "text"
      },
      "source": [
        "<a href=\"https://colab.research.google.com/github/SaharshKhicha18/Solubility-Prediction-python/blob/main/CompDrugDiscovery.ipynb\" target=\"_parent\"><img src=\"https://colab.research.google.com/assets/colab-badge.svg\" alt=\"Open In Colab\"/></a>"
      ]
    },
    {
      "cell_type": "markdown",
      "metadata": {
        "id": "Wj7a1_j1G4yc"
      },
      "source": [
        "**Installing Conda **"
      ]
    },
    {
      "cell_type": "code",
      "metadata": {
        "id": "fhDLV6ktGp2R"
      },
      "source": [
        "! wget https://repo.anaconda.com/miniconda/Miniconda3-py37_4.8.2-Linux-x86_64.sh\n",
        "! chmod +x Miniconda3-py37_4.8.2-Linux-x86_64.sh\n",
        "! bash ./Miniconda3-py37_4.8.2-Linux-x86_64.sh -b -f -p /usr/local\n",
        "import sys\n",
        "sys.path.append('/usr/local/lib/python3.7/site-packages/')"
      ],
      "execution_count": null,
      "outputs": []
    },
    {
      "cell_type": "markdown",
      "metadata": {
        "id": "DhZtz0asHQ8v"
      },
      "source": [
        "**Importing rdkit library**"
      ]
    },
    {
      "cell_type": "code",
      "metadata": {
        "id": "nqo1ZpGqHe51"
      },
      "source": [
        "! conda install -c rdkit rdkit -y"
      ],
      "execution_count": null,
      "outputs": []
    },
    {
      "cell_type": "code",
      "metadata": {
        "id": "sfuODhA1HqnH"
      },
      "source": [
        "import rdkit "
      ],
      "execution_count": null,
      "outputs": []
    },
    {
      "cell_type": "markdown",
      "metadata": {
        "id": "-6mBqFaRnNNg"
      },
      "source": [
        "**Dataset**"
      ]
    },
    {
      "cell_type": "code",
      "metadata": {
        "id": "Ak10NcC-nUU8"
      },
      "source": [
        "! wget https://pubs.acs.org/doi/suppl/10.1021/ci034243x/suppl_file/ci034243xsi20040112_053635.txt"
      ],
      "execution_count": null,
      "outputs": []
    },
    {
      "cell_type": "code",
      "metadata": {
        "id": "WmgOye6IpXf7"
      },
      "source": [
        "import pandas as pd"
      ],
      "execution_count": null,
      "outputs": []
    },
    {
      "cell_type": "code",
      "metadata": {
        "id": "64jry7WLpcDL"
      },
      "source": [
        "data = pd.read_csv('ci034243xsi20040112_053635.txt')\n",
        "data"
      ],
      "execution_count": null,
      "outputs": []
    },
    {
      "cell_type": "markdown",
      "metadata": {
        "id": "1-NWtdU5rPVt"
      },
      "source": [
        "**Simplified Molecular Input-Line Entry System data **"
      ]
    },
    {
      "cell_type": "code",
      "metadata": {
        "id": "4OsCqTHMrbS9"
      },
      "source": [
        "data.SMILES"
      ],
      "execution_count": null,
      "outputs": []
    },
    {
      "cell_type": "markdown",
      "metadata": {
        "id": "f-oLUP-Bte1U"
      },
      "source": [
        "**Convert SMILES to rdkit object**"
      ]
    },
    {
      "cell_type": "code",
      "metadata": {
        "id": "1yWjYpSstsVm"
      },
      "source": [
        "from rdkit import Chem"
      ],
      "execution_count": null,
      "outputs": []
    },
    {
      "cell_type": "code",
      "metadata": {
        "id": "ByTIBvDLt7nM"
      },
      "source": [
        "rdlist = []\n",
        "for i in data.SMILES:\n",
        "  x= Chem.MolFromSmiles(i)\n",
        "  rdlist.append(x)\n"
      ],
      "execution_count": null,
      "outputs": []
    },
    {
      "cell_type": "markdown",
      "metadata": {
        "id": "CxcO6ikLvGZ7"
      },
      "source": [
        "**Calculation of the Molecular Descriptors used in the study**\n",
        "\n",
        "To predict LogS (log of the aqueous solubility), the study by Delaney makes use of 4 molecular descriptors:\n",
        "\n",
        "cLogP (Octanol-water partition coefficient)\n",
        "\n",
        "MW (Molecular weight)\n",
        "\n",
        "RB (Number of rotatable bonds)\n",
        "\n",
        "AP (Aromatic proportion = number of aromatic atoms / total number of heavy atoms)\n",
        "\n",
        "Unfortunately, rdkit readily computes the first 3. AP descriptor will be computed manually by the ratio of the number of aromatic atoms to the total number of heavy atoms which rdkit can compute."
      ]
    },
    {
      "cell_type": "code",
      "metadata": {
        "id": "Yr2Eg-ndxwOv"
      },
      "source": [
        "import numpy as np\n",
        "from rdkit.Chem import Descriptors"
      ],
      "execution_count": null,
      "outputs": []
    },
    {
      "cell_type": "code",
      "metadata": {
        "id": "g55CYa7CvNXl"
      },
      "source": [
        "def generate(smiles, verbose=False):\n",
        "\n",
        "    moldescdata= [] #convert the smiles into rdkit object\n",
        "    for i in smiles:\n",
        "        x=Chem.MolFromSmiles(i) \n",
        "        moldescdata.append(x)\n",
        "       \n",
        "    baseData= np.arange(1,1)\n",
        "    j=0  \n",
        "    for x in moldescdata:        \n",
        "       \n",
        "        d_MolLogP = Descriptors.MolLogP(x)\n",
        "        d_MolWt = Descriptors.MolWt(x)\n",
        "        d_NumRotatableBonds = Descriptors.NumRotatableBonds(x)\n",
        "           \n",
        "        row = np.array([d_MolLogP, d_MolWt, d_NumRotatableBonds])   #numpy array for the arrangement of 3 MD\n",
        "    \n",
        "        if(j==0):\n",
        "            baseData=row\n",
        "        else:\n",
        "            baseData=np.vstack([baseData, row])\n",
        "        j = j+1     \n",
        "    \n",
        "    columnNames=[\"MolLogP\",\"MolWt\",\"NumRotatableBonds\"]   \n",
        "    descriptors = pd.DataFrame(data=baseData,columns=columnNames) #pandas data frame \n",
        "    \n",
        "    return descriptors"
      ],
      "execution_count": null,
      "outputs": []
    },
    {
      "cell_type": "code",
      "metadata": {
        "id": "FROqOAzhxSQ6"
      },
      "source": [
        "desc3 = generate(data.SMILES)\n",
        "desc3"
      ],
      "execution_count": null,
      "outputs": []
    },
    {
      "cell_type": "markdown",
      "metadata": {
        "id": "g9u3flYDx-bO"
      },
      "source": [
        "**Molecular Descriptor Aromatic Proportion (AP)**"
      ]
    },
    {
      "cell_type": "markdown",
      "metadata": {
        "id": "FoegbjHuGu-5"
      },
      "source": [
        "**  (a) Number of Aromatic Atoms **"
      ]
    },
    {
      "cell_type": "code",
      "metadata": {
        "id": "FUNZxEcJDEKb"
      },
      "source": [
        "def AromaticAtoms(x):\n",
        "  is_aromatic = [x.GetAtomWithIdx(i).GetIsAromatic() for i in range(x.GetNumAtoms())]\n",
        "  count = 0\n",
        "  for i in is_aromatic:\n",
        "    if i == True:\n",
        "      count =count +1\n",
        "  return count\n"
      ],
      "execution_count": null,
      "outputs": []
    },
    {
      "cell_type": "code",
      "metadata": {
        "id": "kOhG82LQEMVi"
      },
      "source": [
        "d_aromaticatoms = []\n",
        "for i in rdlist:\n",
        "  d_aromaticatoms.append(AromaticAtoms(i))\n",
        "d_aromaticatoms"
      ],
      "execution_count": null,
      "outputs": []
    },
    {
      "cell_type": "markdown",
      "metadata": {
        "id": "6eH1bjHSHCNl"
      },
      "source": [
        "**  (b) Number of heavy atoms**"
      ]
    },
    {
      "cell_type": "code",
      "metadata": {
        "id": "kGXmCJv8HJiy"
      },
      "source": [
        "d_heavyatoms = []\n",
        "for i in rdlist:\n",
        "  d_heavyatoms.append(Descriptors.HeavyAtomCount(i))\n",
        "d_heavyatoms"
      ],
      "execution_count": null,
      "outputs": []
    },
    {
      "cell_type": "markdown",
      "metadata": {
        "id": "tZ6zpt8_ICEW"
      },
      "source": [
        "**  AP = AromaticAtoms/HeavyAtoms**"
      ]
    },
    {
      "cell_type": "code",
      "metadata": {
        "id": "yyewUmJcILY8"
      },
      "source": [
        "d_AP = []\n",
        "for i in rdlist:\n",
        "  d_AP.append(AromaticAtoms(i)/Descriptors.HeavyAtomCount(i))\n",
        "d_AP"
      ],
      "execution_count": null,
      "outputs": []
    },
    {
      "cell_type": "markdown",
      "metadata": {
        "id": "--65wjMmKMpc"
      },
      "source": [
        "**Now that we have calculated all the 4 descriptors in order to predict the solubility, we will concatenate all the descriptors data in one table**"
      ]
    },
    {
      "cell_type": "code",
      "metadata": {
        "id": "Vsy39UNAKdz0"
      },
      "source": [
        "df_d_AP = pd.DataFrame(d_AP,columns = ['AromaticProportion'])\n",
        "df_d_AP"
      ],
      "execution_count": null,
      "outputs": []
    },
    {
      "cell_type": "code",
      "metadata": {
        "id": "kkTQra0dLe7J"
      },
      "source": [
        "X_desc4 = pd.concat([desc3,df_d_AP], axis = 1)\n",
        "X_desc4"
      ],
      "execution_count": null,
      "outputs": []
    },
    {
      "cell_type": "markdown",
      "metadata": {
        "id": "serkbqKeNKvT"
      },
      "source": [
        "**Y Matrix (that has to be predicted by the X matrix values)**"
      ]
    },
    {
      "cell_type": "code",
      "metadata": {
        "id": "4WBFQ9iANSJi"
      },
      "source": [
        "Y = data.iloc[:,1]\n",
        "Y"
      ],
      "execution_count": null,
      "outputs": []
    },
    {
      "cell_type": "markdown",
      "metadata": {
        "id": "Lt6NvuMpOVin"
      },
      "source": [
        "**Data Spliting and generating a linear regression model**\n",
        "\n",
        "   (A) First Train and Test split and linear regression \n",
        "   \n",
        "   (B) Second Full dataset linear regression"
      ]
    },
    {
      "cell_type": "code",
      "metadata": {
        "id": "L7AajvTzOxzM"
      },
      "source": [
        "from sklearn.model_selection import train_test_split"
      ],
      "execution_count": null,
      "outputs": []
    },
    {
      "cell_type": "code",
      "metadata": {
        "id": "XCYtrPzLSTGS"
      },
      "source": [
        "Xtrain, Xtest, Ytrain, Ytest = train_test_split(X_desc4, Y, test_size=0.3) #30% test size"
      ],
      "execution_count": null,
      "outputs": []
    },
    {
      "cell_type": "code",
      "metadata": {
        "id": "t9JBMMUgSe5U"
      },
      "source": [
        "from sklearn import linear_model\n",
        "from sklearn.metrics import mean_squared_error, r2_score"
      ],
      "execution_count": null,
      "outputs": []
    },
    {
      "cell_type": "code",
      "metadata": {
        "id": "MxsLcPpK4GFy"
      },
      "source": [
        "regressmodel = linear_model.LinearRegression()\n",
        "regressmodel.fit(Xtrain, Ytrain)"
      ],
      "execution_count": null,
      "outputs": []
    },
    {
      "cell_type": "markdown",
      "metadata": {
        "id": "hIahjDL14sHQ"
      },
      "source": [
        "Prediction of the Xtrain - For comparitive purposes"
      ]
    },
    {
      "cell_type": "code",
      "metadata": {
        "id": "6rNlgPTn43Q-"
      },
      "source": [
        "YPredicttrain = regressmodel.predict(Xtrain)\n",
        "print(\"Coefficients = \", regressmodel.coef_)\n",
        "print(\"Intercept = \", regressmodel.intercept_)\n",
        "print(\"Mean squared error = %.3f\" % mean_squared_error(Ytrain, YPredicttrain))\n",
        "print(\"Pearsons Correlation coeffcient squared (R^2) = %.3f\" % r2_score(Ytrain, YPredicttrain)) #Coeffcient of determination"
      ],
      "execution_count": null,
      "outputs": []
    },
    {
      "cell_type": "markdown",
      "metadata": {
        "id": "jZ-gAls59iPo"
      },
      "source": [
        "Prediction of Xtest - for comparitive purposes"
      ]
    },
    {
      "cell_type": "code",
      "metadata": {
        "id": "zSVHi0HA9mYb"
      },
      "source": [
        "YPredicttest = regressmodel.predict(Xtest)\n",
        "print(\"Coefficients = \" + regressmodel.coef_)\n",
        "print(\"Intercept = \" + regressmodel.intercept_)\n",
        "print(\"Mean squared error = %.3f\" % mean_squared_error(Ytest, YPredicttest))\n",
        "print(\"Pearsons Correlation coeffcient squared (R^2) = %.3f\" % r2_score(Ytest, YPredicttest)) #Coeffcient of determination"
      ],
      "execution_count": null,
      "outputs": []
    },
    {
      "cell_type": "markdown",
      "metadata": {
        "id": "UsNYmr06-Ba2"
      },
      "source": [
        "# Linear regression Equation"
      ]
    },
    {
      "cell_type": "markdown",
      "metadata": {
        "id": "15F1YTZs-Ex2"
      },
      "source": [
        "Full Dataset model\n",
        "\n",
        "LogS = 0.22 (Y-intercept) - 0.72LogP - 0.0069MW + 0.0158RB - 0.428AP\n",
        "\n",
        "4 Descriptors and the numbers are the regression coeffcients"
      ]
    },
    {
      "cell_type": "code",
      "metadata": {
        "id": "Piq8dwwCAOK6"
      },
      "source": [
        "print(\"LogS = %.3f %.3f LogP %.3f MW %.3f RB %.3f AP\" %(regressmodel.intercept_, regressmodel.coef_[0], regressmodel.coef_[1], regressmodel.coef_[2], regressmodel.coef_[3]))"
      ],
      "execution_count": null,
      "outputs": []
    },
    {
      "cell_type": "markdown",
      "metadata": {
        "id": "BqDcofjmCREW"
      },
      "source": [
        "Scatter plot of the predicted value vs the experimental value"
      ]
    },
    {
      "cell_type": "code",
      "metadata": {
        "id": "HIRmIrmACm1H"
      },
      "source": [
        "import matplotlib.pyplot as plot"
      ],
      "execution_count": null,
      "outputs": []
    },
    {
      "cell_type": "code",
      "metadata": {
        "id": "4MXHrgo4C9by"
      },
      "source": [
        "Ytrain.shape, YPredicttrain.shape, Ytest.shape, YPredicttest.shape"
      ],
      "execution_count": null,
      "outputs": []
    },
    {
      "cell_type": "markdown",
      "metadata": {
        "id": "V1pXM36jDO5f"
      },
      "source": [
        "# Horizontal Plot"
      ]
    },
    {
      "cell_type": "code",
      "metadata": {
        "id": "hmuu-FaEDSA_"
      },
      "source": [
        "plot.figure(figsize = (12, 6))\n",
        "\n",
        "#Plot 1\n",
        "plot.subplot(1, 2, 1) #2 rows for 2 graphs, 1 column and first graph\n",
        "plot.scatter(x = Ytrain, y = YPredicttrain, c = \"#00FF13\", alpha = 0.2)\n",
        "\n",
        "#Add trendline\n",
        "fit = np.polyfit(Ytrain, YPredicttrain, 1)\n",
        "trend = np.poly1d(fit)\n",
        "plot.plot(Ytest, trend(Ytest), \"#FF2D00\")\n",
        "\n",
        "#Add axis labels\n",
        "plot.xlabel(\"Experimental LogS\")\n",
        "plot.ylabel(\"Predicted LogS\")\n",
        "\n",
        "#Plot 2\n",
        "plot.subplot(1, 2, 2)\n",
        "plot.scatter(x = Ytest, y = YPredicttest, c = \"#F000FF\", alpha = 0.2)\n",
        "\n",
        "fit = np.polyfit(Ytest, YPredicttest, 1)\n",
        "trend = np.poly1d(fit)\n",
        "plot.plot(Ytest, trend(Ytest), \"#FF2D00\")\n",
        "\n",
        "plot.xlabel(\"Experimental LogS\")\n",
        "plot.ylabel(\"Predicted LogS\")\n",
        "\n",
        "plot.savefig(\"Verticalplot.pdf\")\n",
        "plot.show()"
      ],
      "execution_count": null,
      "outputs": []
    }
  ]
}