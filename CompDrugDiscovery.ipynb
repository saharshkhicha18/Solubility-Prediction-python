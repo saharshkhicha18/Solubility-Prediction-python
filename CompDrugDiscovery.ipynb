{
  "nbformat": 4,
  "nbformat_minor": 0,
  "metadata": {
    "colab": {
      "name": "CompDrugDiscovery.ipynb",
      "provenance": [],
      "collapsed_sections": [],
      "include_colab_link": true
    },
    "kernelspec": {
      "name": "python3",
      "display_name": "Python 3"
    }
  },
  "cells": [
    {
      "cell_type": "markdown",
      "metadata": {
        "id": "view-in-github",
        "colab_type": "text"
      },
      "source": [
        "<a href=\"https://colab.research.google.com/github/SaharshKhicha18/Solubility-Prediction-python/blob/main/CompDrugDiscovery.ipynb\" target=\"_parent\"><img src=\"https://colab.research.google.com/assets/colab-badge.svg\" alt=\"Open In Colab\"/></a>"
      ]
    },
    {
      "cell_type": "markdown",
      "metadata": {
        "id": "Wj7a1_j1G4yc"
      },
      "source": [
        "**Installing Conda **"
      ]
    },
    {
      "cell_type": "code",
      "metadata": {
        "id": "fhDLV6ktGp2R",
        "colab": {
          "base_uri": "https://localhost:8080/"
        },
        "outputId": "decf2c4e-b5bc-4cc0-f3ae-9fd8cb6590ec"
      },
      "source": [
        "! wget https://repo.anaconda.com/miniconda/Miniconda3-py37_4.8.2-Linux-x86_64.sh\n",
        "! chmod +x Miniconda3-py37_4.8.2-Linux-x86_64.sh\n",
        "! bash ./Miniconda3-py37_4.8.2-Linux-x86_64.sh -b -f -p /usr/local\n",
        "import sys\n",
        "sys.path.append('/usr/local/lib/python3.7/site-packages/')"
      ],
      "execution_count": null,
      "outputs": [
        {
          "output_type": "stream",
          "text": [
            "--2021-06-04 06:57:25--  https://repo.anaconda.com/miniconda/Miniconda3-py37_4.8.2-Linux-x86_64.sh\n",
            "Resolving repo.anaconda.com (repo.anaconda.com)... 104.16.131.3, 104.16.130.3, 2606:4700::6810:8303, ...\n",
            "Connecting to repo.anaconda.com (repo.anaconda.com)|104.16.131.3|:443... connected.\n",
            "HTTP request sent, awaiting response... 200 OK\n",
            "Length: 85055499 (81M) [application/x-sh]\n",
            "Saving to: ‘Miniconda3-py37_4.8.2-Linux-x86_64.sh’\n",
            "\n",
            "Miniconda3-py37_4.8 100%[===================>]  81.12M   157MB/s    in 0.5s    \n",
            "\n",
            "2021-06-04 06:57:26 (157 MB/s) - ‘Miniconda3-py37_4.8.2-Linux-x86_64.sh’ saved [85055499/85055499]\n",
            "\n",
            "PREFIX=/usr/local\n",
            "Unpacking payload ...\n",
            "Collecting package metadata (current_repodata.json): - \b\b\\ \b\b| \b\bdone\n",
            "Solving environment: - \b\bdone\n",
            "\n",
            "## Package Plan ##\n",
            "\n",
            "  environment location: /usr/local\n",
            "\n",
            "  added / updated specs:\n",
            "    - _libgcc_mutex==0.1=main\n",
            "    - asn1crypto==1.3.0=py37_0\n",
            "    - ca-certificates==2020.1.1=0\n",
            "    - certifi==2019.11.28=py37_0\n",
            "    - cffi==1.14.0=py37h2e261b9_0\n",
            "    - chardet==3.0.4=py37_1003\n",
            "    - conda-package-handling==1.6.0=py37h7b6447c_0\n",
            "    - conda==4.8.2=py37_0\n",
            "    - cryptography==2.8=py37h1ba5d50_0\n",
            "    - idna==2.8=py37_0\n",
            "    - ld_impl_linux-64==2.33.1=h53a641e_7\n",
            "    - libedit==3.1.20181209=hc058e9b_0\n",
            "    - libffi==3.2.1=hd88cf55_4\n",
            "    - libgcc-ng==9.1.0=hdf63c60_0\n",
            "    - libstdcxx-ng==9.1.0=hdf63c60_0\n",
            "    - ncurses==6.2=he6710b0_0\n",
            "    - openssl==1.1.1d=h7b6447c_4\n",
            "    - pip==20.0.2=py37_1\n",
            "    - pycosat==0.6.3=py37h7b6447c_0\n",
            "    - pycparser==2.19=py37_0\n",
            "    - pyopenssl==19.1.0=py37_0\n",
            "    - pysocks==1.7.1=py37_0\n",
            "    - python==3.7.6=h0371630_2\n",
            "    - readline==7.0=h7b6447c_5\n",
            "    - requests==2.22.0=py37_1\n",
            "    - ruamel_yaml==0.15.87=py37h7b6447c_0\n",
            "    - setuptools==45.2.0=py37_0\n",
            "    - six==1.14.0=py37_0\n",
            "    - sqlite==3.31.1=h7b6447c_0\n",
            "    - tk==8.6.8=hbc83047_0\n",
            "    - tqdm==4.42.1=py_0\n",
            "    - urllib3==1.25.8=py37_0\n",
            "    - wheel==0.34.2=py37_0\n",
            "    - xz==5.2.4=h14c3975_4\n",
            "    - yaml==0.1.7=had09818_2\n",
            "    - zlib==1.2.11=h7b6447c_3\n",
            "\n",
            "\n",
            "The following NEW packages will be INSTALLED:\n",
            "\n",
            "  _libgcc_mutex      pkgs/main/linux-64::_libgcc_mutex-0.1-main\n",
            "  asn1crypto         pkgs/main/linux-64::asn1crypto-1.3.0-py37_0\n",
            "  ca-certificates    pkgs/main/linux-64::ca-certificates-2020.1.1-0\n",
            "  certifi            pkgs/main/linux-64::certifi-2019.11.28-py37_0\n",
            "  cffi               pkgs/main/linux-64::cffi-1.14.0-py37h2e261b9_0\n",
            "  chardet            pkgs/main/linux-64::chardet-3.0.4-py37_1003\n",
            "  conda              pkgs/main/linux-64::conda-4.8.2-py37_0\n",
            "  conda-package-han~ pkgs/main/linux-64::conda-package-handling-1.6.0-py37h7b6447c_0\n",
            "  cryptography       pkgs/main/linux-64::cryptography-2.8-py37h1ba5d50_0\n",
            "  idna               pkgs/main/linux-64::idna-2.8-py37_0\n",
            "  ld_impl_linux-64   pkgs/main/linux-64::ld_impl_linux-64-2.33.1-h53a641e_7\n",
            "  libedit            pkgs/main/linux-64::libedit-3.1.20181209-hc058e9b_0\n",
            "  libffi             pkgs/main/linux-64::libffi-3.2.1-hd88cf55_4\n",
            "  libgcc-ng          pkgs/main/linux-64::libgcc-ng-9.1.0-hdf63c60_0\n",
            "  libstdcxx-ng       pkgs/main/linux-64::libstdcxx-ng-9.1.0-hdf63c60_0\n",
            "  ncurses            pkgs/main/linux-64::ncurses-6.2-he6710b0_0\n",
            "  openssl            pkgs/main/linux-64::openssl-1.1.1d-h7b6447c_4\n",
            "  pip                pkgs/main/linux-64::pip-20.0.2-py37_1\n",
            "  pycosat            pkgs/main/linux-64::pycosat-0.6.3-py37h7b6447c_0\n",
            "  pycparser          pkgs/main/linux-64::pycparser-2.19-py37_0\n",
            "  pyopenssl          pkgs/main/linux-64::pyopenssl-19.1.0-py37_0\n",
            "  pysocks            pkgs/main/linux-64::pysocks-1.7.1-py37_0\n",
            "  python             pkgs/main/linux-64::python-3.7.6-h0371630_2\n",
            "  readline           pkgs/main/linux-64::readline-7.0-h7b6447c_5\n",
            "  requests           pkgs/main/linux-64::requests-2.22.0-py37_1\n",
            "  ruamel_yaml        pkgs/main/linux-64::ruamel_yaml-0.15.87-py37h7b6447c_0\n",
            "  setuptools         pkgs/main/linux-64::setuptools-45.2.0-py37_0\n",
            "  six                pkgs/main/linux-64::six-1.14.0-py37_0\n",
            "  sqlite             pkgs/main/linux-64::sqlite-3.31.1-h7b6447c_0\n",
            "  tk                 pkgs/main/linux-64::tk-8.6.8-hbc83047_0\n",
            "  tqdm               pkgs/main/noarch::tqdm-4.42.1-py_0\n",
            "  urllib3            pkgs/main/linux-64::urllib3-1.25.8-py37_0\n",
            "  wheel              pkgs/main/linux-64::wheel-0.34.2-py37_0\n",
            "  xz                 pkgs/main/linux-64::xz-5.2.4-h14c3975_4\n",
            "  yaml               pkgs/main/linux-64::yaml-0.1.7-had09818_2\n",
            "  zlib               pkgs/main/linux-64::zlib-1.2.11-h7b6447c_3\n",
            "\n",
            "\n",
            "Preparing transaction: | \b\b/ \b\b- \b\b\\ \b\bdone\n",
            "Executing transaction: / \b\b- \b\b\\ \b\b| \b\b/ \b\b- \b\b\\ \b\b| \b\b/ \b\b- \b\b\\ \b\b| \b\b/ \b\b- \b\b\\ \b\b| \b\b/ \b\b- \b\bdone\n",
            "installation finished.\n",
            "WARNING:\n",
            "    You currently have a PYTHONPATH environment variable set. This may cause\n",
            "    unexpected behavior when running the Python interpreter in Miniconda3.\n",
            "    For best results, please verify that your PYTHONPATH only points to\n",
            "    directories of packages that are compatible with the Python interpreter\n",
            "    in Miniconda3: /usr/local\n"
          ],
          "name": "stdout"
        }
      ]
    },
    {
      "cell_type": "markdown",
      "metadata": {
        "id": "DhZtz0asHQ8v"
      },
      "source": [
        "**Importing rdkit library**"
      ]
    },
    {
      "cell_type": "code",
      "metadata": {
        "id": "nqo1ZpGqHe51",
        "colab": {
          "base_uri": "https://localhost:8080/"
        },
        "outputId": "cdb83125-9ac2-47f6-e72e-5b145c722e86"
      },
      "source": [
        "! conda install -c rdkit rdkit -y"
      ],
      "execution_count": null,
      "outputs": [
        {
          "output_type": "stream",
          "text": [
            "Collecting package metadata (current_repodata.json): - \b\b\\ \b\b| \b\b/ \b\b- \b\b\\ \b\b| \b\b/ \b\b- \b\b\\ \b\b| \b\b/ \b\b- \b\b\\ \b\b| \b\b/ \b\b- \b\b\\ \b\b| \b\bdone\n",
            "Solving environment: - \b\b\\ \b\b| \b\b/ \b\b- \b\b\\ \b\b| \b\b/ \b\b- \b\b\\ \b\b| \b\b/ \b\bdone\n",
            "\n",
            "## Package Plan ##\n",
            "\n",
            "  environment location: /usr/local\n",
            "\n",
            "  added / updated specs:\n",
            "    - rdkit\n",
            "\n",
            "\n",
            "The following packages will be downloaded:\n",
            "\n",
            "    package                    |            build\n",
            "    ---------------------------|-----------------\n",
            "    blas-1.0                   |              mkl           6 KB\n",
            "    bzip2-1.0.8                |       h7b6447c_0          78 KB\n",
            "    ca-certificates-2021.5.25  |       h06a4308_1         112 KB\n",
            "    cairo-1.16.0               |       hf32fb01_1         1.0 MB\n",
            "    certifi-2021.5.30          |   py37h06a4308_0         139 KB\n",
            "    conda-4.10.1               |   py37h06a4308_1         2.9 MB\n",
            "    fontconfig-2.13.1          |       h6c09931_0         250 KB\n",
            "    freetype-2.10.4            |       h5ab3b9f_0         596 KB\n",
            "    glib-2.68.2                |       h36276a3_0         3.0 MB\n",
            "    icu-58.2                   |       he6710b0_3        10.5 MB\n",
            "    intel-openmp-2021.2.0      |     h06a4308_610         1.3 MB\n",
            "    jpeg-9b                    |       h024ee3a_2         214 KB\n",
            "    lcms2-2.12                 |       h3be6417_0         312 KB\n",
            "    libboost-1.73.0            |      h3ff78a5_11        13.9 MB\n",
            "    libffi-3.3                 |       he6710b0_2          50 KB\n",
            "    libpng-1.6.37              |       hbc83047_0         278 KB\n",
            "    libtiff-4.2.0              |       h85742a9_0         502 KB\n",
            "    libuuid-1.0.3              |       h1bed415_2          15 KB\n",
            "    libwebp-base-1.2.0         |       h27cfd23_0         437 KB\n",
            "    libxcb-1.14                |       h7b6447c_0         505 KB\n",
            "    libxml2-2.9.10             |       hb55368b_3         1.2 MB\n",
            "    lz4-c-1.9.3                |       h2531618_0         186 KB\n",
            "    mkl-2021.2.0               |     h06a4308_296       144.3 MB\n",
            "    mkl-service-2.3.0          |   py37h27cfd23_1          55 KB\n",
            "    mkl_fft-1.3.0              |   py37h42c9631_2         170 KB\n",
            "    mkl_random-1.2.1           |   py37ha9443f7_2         287 KB\n",
            "    numpy-1.20.2               |   py37h2d18471_0          23 KB\n",
            "    numpy-base-1.20.2          |   py37hfae3a4d_0         4.5 MB\n",
            "    olefile-0.46               |           py37_0          50 KB\n",
            "    openssl-1.1.1k             |       h27cfd23_0         2.5 MB\n",
            "    pandas-1.2.4               |   py37h2531618_0         8.5 MB\n",
            "    pcre-8.44                  |       he6710b0_0         212 KB\n",
            "    pillow-8.2.0               |   py37he98fc37_0         622 KB\n",
            "    pixman-0.40.0              |       h7b6447c_0         370 KB\n",
            "    py-boost-1.73.0            |  py37ha9443f7_11         204 KB\n",
            "    python-dateutil-2.8.1      |     pyhd3eb1b0_0         221 KB\n",
            "    pytz-2021.1                |     pyhd3eb1b0_0         181 KB\n",
            "    rdkit-2020.09.1.0          |   py37hd50e099_1        25.8 MB  rdkit\n",
            "    xz-5.2.5                   |       h7b6447c_0         341 KB\n",
            "    zstd-1.4.9                 |       haebb681_0         480 KB\n",
            "    ------------------------------------------------------------\n",
            "                                           Total:       226.2 MB\n",
            "\n",
            "The following NEW packages will be INSTALLED:\n",
            "\n",
            "  blas               pkgs/main/linux-64::blas-1.0-mkl\n",
            "  bzip2              pkgs/main/linux-64::bzip2-1.0.8-h7b6447c_0\n",
            "  cairo              pkgs/main/linux-64::cairo-1.16.0-hf32fb01_1\n",
            "  fontconfig         pkgs/main/linux-64::fontconfig-2.13.1-h6c09931_0\n",
            "  freetype           pkgs/main/linux-64::freetype-2.10.4-h5ab3b9f_0\n",
            "  glib               pkgs/main/linux-64::glib-2.68.2-h36276a3_0\n",
            "  icu                pkgs/main/linux-64::icu-58.2-he6710b0_3\n",
            "  intel-openmp       pkgs/main/linux-64::intel-openmp-2021.2.0-h06a4308_610\n",
            "  jpeg               pkgs/main/linux-64::jpeg-9b-h024ee3a_2\n",
            "  lcms2              pkgs/main/linux-64::lcms2-2.12-h3be6417_0\n",
            "  libboost           pkgs/main/linux-64::libboost-1.73.0-h3ff78a5_11\n",
            "  libpng             pkgs/main/linux-64::libpng-1.6.37-hbc83047_0\n",
            "  libtiff            pkgs/main/linux-64::libtiff-4.2.0-h85742a9_0\n",
            "  libuuid            pkgs/main/linux-64::libuuid-1.0.3-h1bed415_2\n",
            "  libwebp-base       pkgs/main/linux-64::libwebp-base-1.2.0-h27cfd23_0\n",
            "  libxcb             pkgs/main/linux-64::libxcb-1.14-h7b6447c_0\n",
            "  libxml2            pkgs/main/linux-64::libxml2-2.9.10-hb55368b_3\n",
            "  lz4-c              pkgs/main/linux-64::lz4-c-1.9.3-h2531618_0\n",
            "  mkl                pkgs/main/linux-64::mkl-2021.2.0-h06a4308_296\n",
            "  mkl-service        pkgs/main/linux-64::mkl-service-2.3.0-py37h27cfd23_1\n",
            "  mkl_fft            pkgs/main/linux-64::mkl_fft-1.3.0-py37h42c9631_2\n",
            "  mkl_random         pkgs/main/linux-64::mkl_random-1.2.1-py37ha9443f7_2\n",
            "  numpy              pkgs/main/linux-64::numpy-1.20.2-py37h2d18471_0\n",
            "  numpy-base         pkgs/main/linux-64::numpy-base-1.20.2-py37hfae3a4d_0\n",
            "  olefile            pkgs/main/linux-64::olefile-0.46-py37_0\n",
            "  pandas             pkgs/main/linux-64::pandas-1.2.4-py37h2531618_0\n",
            "  pcre               pkgs/main/linux-64::pcre-8.44-he6710b0_0\n",
            "  pillow             pkgs/main/linux-64::pillow-8.2.0-py37he98fc37_0\n",
            "  pixman             pkgs/main/linux-64::pixman-0.40.0-h7b6447c_0\n",
            "  py-boost           pkgs/main/linux-64::py-boost-1.73.0-py37ha9443f7_11\n",
            "  python-dateutil    pkgs/main/noarch::python-dateutil-2.8.1-pyhd3eb1b0_0\n",
            "  pytz               pkgs/main/noarch::pytz-2021.1-pyhd3eb1b0_0\n",
            "  rdkit              rdkit/linux-64::rdkit-2020.09.1.0-py37hd50e099_1\n",
            "  zstd               pkgs/main/linux-64::zstd-1.4.9-haebb681_0\n",
            "\n",
            "The following packages will be UPDATED:\n",
            "\n",
            "  ca-certificates                                2020.1.1-0 --> 2021.5.25-h06a4308_1\n",
            "  certifi                                 2019.11.28-py37_0 --> 2021.5.30-py37h06a4308_0\n",
            "  conda                                        4.8.2-py37_0 --> 4.10.1-py37h06a4308_1\n",
            "  libffi                                   3.2.1-hd88cf55_4 --> 3.3-he6710b0_2\n",
            "  openssl                                 1.1.1d-h7b6447c_4 --> 1.1.1k-h27cfd23_0\n",
            "  xz                                       5.2.4-h14c3975_4 --> 5.2.5-h7b6447c_0\n",
            "\n",
            "\n",
            "\n",
            "Downloading and Extracting Packages\n",
            "libffi-3.3           | 50 KB     | : 100% 1.0/1 [00:00<00:00,  7.97it/s]\n",
            "pytz-2021.1          | 181 KB    | : 100% 1.0/1 [00:00<00:00,  8.60it/s]\n",
            "mkl_random-1.2.1     | 287 KB    | : 100% 1.0/1 [00:00<00:00, 10.82it/s]\n",
            "freetype-2.10.4      | 596 KB    | : 100% 1.0/1 [00:00<00:00, 11.97it/s]\n",
            "intel-openmp-2021.2. | 1.3 MB    | : 100% 1.0/1 [00:00<00:00,  8.27it/s]\n",
            "lcms2-2.12           | 312 KB    | : 100% 1.0/1 [00:00<00:00, 13.03it/s]\n",
            "bzip2-1.0.8          | 78 KB     | : 100% 1.0/1 [00:00<00:00, 17.22it/s]\n",
            "pixman-0.40.0        | 370 KB    | : 100% 1.0/1 [00:00<00:00, 14.67it/s]\n",
            "cairo-1.16.0         | 1.0 MB    | : 100% 1.0/1 [00:00<00:00,  9.29it/s]\n",
            "icu-58.2             | 10.5 MB   | : 100% 1.0/1 [00:00<00:00,  2.09it/s]               \n",
            "conda-4.10.1         | 2.9 MB    | : 100% 1.0/1 [00:00<00:00,  4.38it/s]\n",
            "python-dateutil-2.8. | 221 KB    | : 100% 1.0/1 [00:00<00:00, 15.09it/s]\n",
            "libboost-1.73.0      | 13.9 MB   | : 100% 1.0/1 [00:02<00:00,  1.29s/it]                \n",
            "fontconfig-2.13.1    | 250 KB    | : 100% 1.0/1 [00:00<00:00, 12.87it/s]\n",
            "ca-certificates-2021 | 112 KB    | : 100% 1.0/1 [00:00<00:00, 14.35it/s]\n",
            "py-boost-1.73.0      | 204 KB    | : 100% 1.0/1 [00:00<00:00, 10.97it/s]\n",
            "glib-2.68.2          | 3.0 MB    | : 100% 1.0/1 [00:00<00:00,  3.23it/s]\n",
            "mkl_fft-1.3.0        | 170 KB    | : 100% 1.0/1 [00:00<00:00, 13.45it/s]\n",
            "certifi-2021.5.30    | 139 KB    | : 100% 1.0/1 [00:00<00:00, 12.71it/s]\n",
            "blas-1.0             | 6 KB      | : 100% 1.0/1 [00:00<00:00, 13.72it/s]\n",
            "mkl-service-2.3.0    | 55 KB     | : 100% 1.0/1 [00:00<00:00, 13.34it/s]\n",
            "openssl-1.1.1k       | 2.5 MB    | : 100% 1.0/1 [00:00<00:00,  5.16it/s]\n",
            "libuuid-1.0.3        | 15 KB     | : 100% 1.0/1 [00:00<00:00, 14.75it/s]\n",
            "numpy-1.20.2         | 23 KB     | : 100% 1.0/1 [00:00<00:00, 11.95it/s]\n",
            "libtiff-4.2.0        | 502 KB    | : 100% 1.0/1 [00:00<00:00, 10.02it/s]\n",
            "libwebp-base-1.2.0   | 437 KB    | : 100% 1.0/1 [00:00<00:00, 11.44it/s]\n",
            "zstd-1.4.9           | 480 KB    | : 100% 1.0/1 [00:00<00:00,  9.83it/s]\n",
            "numpy-base-1.20.2    | 4.5 MB    | : 100% 1.0/1 [00:00<00:00,  2.82it/s]\n",
            "rdkit-2020.09.1.0    | 25.8 MB   | : 100% 1.0/1 [00:07<00:00,  7.63s/it]\n",
            "pandas-1.2.4         | 8.5 MB    | : 100% 1.0/1 [00:00<00:00,  1.95it/s]                \n",
            "libxcb-1.14          | 505 KB    | : 100% 1.0/1 [00:00<00:00,  9.52it/s]\n",
            "lz4-c-1.9.3          | 186 KB    | : 100% 1.0/1 [00:00<00:00,  5.19it/s]                \n",
            "libpng-1.6.37        | 278 KB    | : 100% 1.0/1 [00:00<00:00, 12.30it/s]\n",
            "xz-5.2.5             | 341 KB    | : 100% 1.0/1 [00:00<00:00, 12.41it/s]\n",
            "jpeg-9b              | 214 KB    | : 100% 1.0/1 [00:00<00:00, 13.73it/s]\n",
            "libxml2-2.9.10       | 1.2 MB    | : 100% 1.0/1 [00:00<00:00,  1.69it/s]\n",
            "mkl-2021.2.0         | 144.3 MB  | : 100% 1.0/1 [00:06<00:00,  6.92s/it]               \n",
            "pcre-8.44            | 212 KB    | : 100% 1.0/1 [00:00<00:00,  9.04it/s]\n",
            "pillow-8.2.0         | 622 KB    | : 100% 1.0/1 [00:00<00:00,  9.73it/s]\n",
            "olefile-0.46         | 50 KB     | : 100% 1.0/1 [00:00<00:00, 13.62it/s]\n",
            "Preparing transaction: \\ \b\b| \b\b/ \b\b- \b\b\\ \b\b| \b\b/ \b\b- \b\b\\ \b\b| \b\bdone\n",
            "Verifying transaction: - \b\b\\ \b\b| \b\b/ \b\b- \b\b\\ \b\b| \b\b/ \b\b- \b\b\\ \b\b| \b\b/ \b\b- \b\b\\ \b\b| \b\b/ \b\b- \b\b\\ \b\b| \b\b/ \b\b- \b\b\\ \b\b| \b\b/ \b\b- \b\b\\ \b\b| \b\bdone\n",
            "Executing transaction: - \b\b\\ \b\b| \b\b/ \b\b- \b\b\\ \b\b| \b\b/ \b\b- \b\b\\ \b\b| \b\b/ \b\b- \b\b\\ \b\b| \b\b/ \b\b- \b\b\\ \b\b| \b\b/ \b\b- \b\b\\ \b\b| \b\b/ \b\b- \b\b\\ \b\b| \b\b/ \b\b- \b\b\\ \b\b| \b\b/ \b\b- \b\b\\ \b\b| \b\b/ \b\b- \b\b\\ \b\b| \b\b/ \b\b- \b\b\\ \b\b| \b\b/ \b\b- \b\b\\ \b\b| \b\b/ \b\b- \b\b\\ \b\b| \b\b/ \b\b- \b\b\\ \b\b| \b\b/ \b\b- \b\b\\ \b\b| \b\b/ \b\b- \b\b\\ \b\b| \b\b/ \b\b- \b\b\\ \b\b| \b\b/ \b\b- \b\b\\ \b\b| \b\b/ \b\b- \b\b\\ \b\b| \b\b/ \b\b- \b\b\\ \b\b| \b\b/ \b\b- \b\b\\ \b\b| \b\b/ \b\b- \b\b\\ \b\b| \b\b/ \b\b- \b\b\\ \b\b| \b\b/ \b\b- \b\b\\ \b\b| \b\b/ \b\b- \b\b\\ \b\b| \b\b/ \b\b- \b\b\\ \b\b| \b\b/ \b\b- \b\b\\ \b\b| \b\b/ \b\b- \b\b\\ \b\b| \b\b/ \b\b- \b\b\\ \b\b| \b\b/ \b\b- \b\b\\ \b\b| \b\b/ \b\b- \b\b\\ \b\b| \b\b/ \b\b- \b\b\\ \b\b| \b\b/ \b\b- \b\bdone\n"
          ],
          "name": "stdout"
        }
      ]
    },
    {
      "cell_type": "code",
      "metadata": {
        "id": "sfuODhA1HqnH"
      },
      "source": [
        "import rdkit "
      ],
      "execution_count": null,
      "outputs": []
    },
    {
      "cell_type": "markdown",
      "metadata": {
        "id": "-6mBqFaRnNNg"
      },
      "source": [
        "**Dataset**"
      ]
    },
    {
      "cell_type": "code",
      "metadata": {
        "id": "Ak10NcC-nUU8",
        "colab": {
          "base_uri": "https://localhost:8080/"
        },
        "outputId": "ea1b3f2d-3283-460e-80c2-274f79878809"
      },
      "source": [
        "! wget https://pubs.acs.org/doi/suppl/10.1021/ci034243x/suppl_file/ci034243xsi20040112_053635.txt"
      ],
      "execution_count": null,
      "outputs": [
        {
          "output_type": "stream",
          "text": [
            "--2021-06-04 06:58:47--  https://pubs.acs.org/doi/suppl/10.1021/ci034243x/suppl_file/ci034243xsi20040112_053635.txt\n",
            "Resolving pubs.acs.org (pubs.acs.org)... 104.18.1.20, 104.18.0.20\n",
            "Connecting to pubs.acs.org (pubs.acs.org)|104.18.1.20|:443... connected.\n",
            "HTTP request sent, awaiting response... 302 Found\n",
            "Location: https://pubs.acs.org/doi/suppl/10.1021/ci034243x/suppl_file/ci034243xsi20040112_053635.txt?cookieSet=1 [following]\n",
            "--2021-06-04 06:58:47--  https://pubs.acs.org/doi/suppl/10.1021/ci034243x/suppl_file/ci034243xsi20040112_053635.txt?cookieSet=1\n",
            "Reusing existing connection to pubs.acs.org:443.\n",
            "HTTP request sent, awaiting response... 302 Found\n",
            "Location: https://pubs.acs.org/doi/suppl/10.1021/ci034243x/suppl_file/ci034243xsi20040112_053635.txt [following]\n",
            "--2021-06-04 06:58:47--  https://pubs.acs.org/doi/suppl/10.1021/ci034243x/suppl_file/ci034243xsi20040112_053635.txt\n",
            "Reusing existing connection to pubs.acs.org:443.\n",
            "HTTP request sent, awaiting response... 200 OK\n",
            "Length: 60034 (59K) [text/plain]\n",
            "Saving to: ‘ci034243xsi20040112_053635.txt’\n",
            "\n",
            "ci034243xsi20040112 100%[===================>]  58.63K  --.-KB/s    in 0.01s   \n",
            "\n",
            "2021-06-04 06:58:47 (5.00 MB/s) - ‘ci034243xsi20040112_053635.txt’ saved [60034/60034]\n",
            "\n"
          ],
          "name": "stdout"
        }
      ]
    },
    {
      "cell_type": "code",
      "metadata": {
        "id": "WmgOye6IpXf7"
      },
      "source": [
        "import pandas as pd"
      ],
      "execution_count": null,
      "outputs": []
    },
    {
      "cell_type": "code",
      "metadata": {
        "id": "64jry7WLpcDL",
        "colab": {
          "base_uri": "https://localhost:8080/",
          "height": 524
        },
        "outputId": "3220c70f-e411-4a66-ec41-98f1dede8b88"
      },
      "source": [
        "data = pd.read_csv('ci034243xsi20040112_053635.txt')\n",
        "data"
      ],
      "execution_count": null,
      "outputs": [
        {
          "output_type": "execute_result",
          "data": {
            "text/html": [
              "<div>\n",
              "<style scoped>\n",
              "    .dataframe tbody tr th:only-of-type {\n",
              "        vertical-align: middle;\n",
              "    }\n",
              "\n",
              "    .dataframe tbody tr th {\n",
              "        vertical-align: top;\n",
              "    }\n",
              "\n",
              "    .dataframe thead th {\n",
              "        text-align: right;\n",
              "    }\n",
              "</style>\n",
              "<table border=\"1\" class=\"dataframe\">\n",
              "  <thead>\n",
              "    <tr style=\"text-align: right;\">\n",
              "      <th></th>\n",
              "      <th>Compound ID</th>\n",
              "      <th>measured log(solubility:mol/L)</th>\n",
              "      <th>ESOL predicted log(solubility:mol/L)</th>\n",
              "      <th>SMILES</th>\n",
              "    </tr>\n",
              "  </thead>\n",
              "  <tbody>\n",
              "    <tr>\n",
              "      <th>0</th>\n",
              "      <td>1,1,1,2-Tetrachloroethane</td>\n",
              "      <td>-2.180</td>\n",
              "      <td>-2.794</td>\n",
              "      <td>ClCC(Cl)(Cl)Cl</td>\n",
              "    </tr>\n",
              "    <tr>\n",
              "      <th>1</th>\n",
              "      <td>1,1,1-Trichloroethane</td>\n",
              "      <td>-2.000</td>\n",
              "      <td>-2.232</td>\n",
              "      <td>CC(Cl)(Cl)Cl</td>\n",
              "    </tr>\n",
              "    <tr>\n",
              "      <th>2</th>\n",
              "      <td>1,1,2,2-Tetrachloroethane</td>\n",
              "      <td>-1.740</td>\n",
              "      <td>-2.549</td>\n",
              "      <td>ClC(Cl)C(Cl)Cl</td>\n",
              "    </tr>\n",
              "    <tr>\n",
              "      <th>3</th>\n",
              "      <td>1,1,2-Trichloroethane</td>\n",
              "      <td>-1.480</td>\n",
              "      <td>-1.961</td>\n",
              "      <td>ClCC(Cl)Cl</td>\n",
              "    </tr>\n",
              "    <tr>\n",
              "      <th>4</th>\n",
              "      <td>1,1,2-Trichlorotrifluoroethane</td>\n",
              "      <td>-3.040</td>\n",
              "      <td>-3.077</td>\n",
              "      <td>FC(F)(Cl)C(F)(Cl)Cl</td>\n",
              "    </tr>\n",
              "    <tr>\n",
              "      <th>...</th>\n",
              "      <td>...</td>\n",
              "      <td>...</td>\n",
              "      <td>...</td>\n",
              "      <td>...</td>\n",
              "    </tr>\n",
              "    <tr>\n",
              "      <th>1139</th>\n",
              "      <td>vamidothion</td>\n",
              "      <td>1.144</td>\n",
              "      <td>-1.446</td>\n",
              "      <td>CNC(=O)C(C)SCCSP(=O)(OC)(OC)</td>\n",
              "    </tr>\n",
              "    <tr>\n",
              "      <th>1140</th>\n",
              "      <td>Vinclozolin</td>\n",
              "      <td>-4.925</td>\n",
              "      <td>-4.377</td>\n",
              "      <td>CC1(OC(=O)N(C1=O)c2cc(Cl)cc(Cl)c2)C=C</td>\n",
              "    </tr>\n",
              "    <tr>\n",
              "      <th>1141</th>\n",
              "      <td>Warfarin</td>\n",
              "      <td>-3.893</td>\n",
              "      <td>-3.913</td>\n",
              "      <td>CC(=O)CC(c1ccccc1)c3c(O)c2ccccc2oc3=O</td>\n",
              "    </tr>\n",
              "    <tr>\n",
              "      <th>1142</th>\n",
              "      <td>Xipamide</td>\n",
              "      <td>-3.790</td>\n",
              "      <td>-3.642</td>\n",
              "      <td>Cc1cccc(C)c1NC(=O)c2cc(c(Cl)cc2O)S(N)(=O)=O</td>\n",
              "    </tr>\n",
              "    <tr>\n",
              "      <th>1143</th>\n",
              "      <td>XMC</td>\n",
              "      <td>-2.581</td>\n",
              "      <td>-2.688</td>\n",
              "      <td>CNC(=O)Oc1cc(C)cc(C)c1</td>\n",
              "    </tr>\n",
              "  </tbody>\n",
              "</table>\n",
              "<p>1144 rows × 4 columns</p>\n",
              "</div>"
            ],
            "text/plain": [
              "                         Compound ID  ...                                       SMILES\n",
              "0          1,1,1,2-Tetrachloroethane  ...                               ClCC(Cl)(Cl)Cl\n",
              "1              1,1,1-Trichloroethane  ...                                 CC(Cl)(Cl)Cl\n",
              "2          1,1,2,2-Tetrachloroethane  ...                               ClC(Cl)C(Cl)Cl\n",
              "3              1,1,2-Trichloroethane  ...                                   ClCC(Cl)Cl\n",
              "4     1,1,2-Trichlorotrifluoroethane  ...                          FC(F)(Cl)C(F)(Cl)Cl\n",
              "...                              ...  ...                                          ...\n",
              "1139                     vamidothion  ...                 CNC(=O)C(C)SCCSP(=O)(OC)(OC)\n",
              "1140                     Vinclozolin  ...        CC1(OC(=O)N(C1=O)c2cc(Cl)cc(Cl)c2)C=C\n",
              "1141                        Warfarin  ...       CC(=O)CC(c1ccccc1)c3c(O)c2ccccc2oc3=O \n",
              "1142                        Xipamide  ...  Cc1cccc(C)c1NC(=O)c2cc(c(Cl)cc2O)S(N)(=O)=O\n",
              "1143                             XMC  ...                       CNC(=O)Oc1cc(C)cc(C)c1\n",
              "\n",
              "[1144 rows x 4 columns]"
            ]
          },
          "metadata": {
            "tags": []
          },
          "execution_count": 9
        }
      ]
    },
    {
      "cell_type": "markdown",
      "metadata": {
        "id": "1-NWtdU5rPVt"
      },
      "source": [
        "**Simplified Molecular Input-Line Entry System data **"
      ]
    },
    {
      "cell_type": "code",
      "metadata": {
        "id": "4OsCqTHMrbS9",
        "colab": {
          "base_uri": "https://localhost:8080/"
        },
        "outputId": "1b2e2edb-d829-4a7b-a7a0-cf9a428a049a"
      },
      "source": [
        "data.SMILES"
      ],
      "execution_count": null,
      "outputs": [
        {
          "output_type": "execute_result",
          "data": {
            "text/plain": [
              "0                                    ClCC(Cl)(Cl)Cl\n",
              "1                                      CC(Cl)(Cl)Cl\n",
              "2                                    ClC(Cl)C(Cl)Cl\n",
              "3                                        ClCC(Cl)Cl\n",
              "4                               FC(F)(Cl)C(F)(Cl)Cl\n",
              "                           ...                     \n",
              "1139                   CNC(=O)C(C)SCCSP(=O)(OC)(OC)\n",
              "1140          CC1(OC(=O)N(C1=O)c2cc(Cl)cc(Cl)c2)C=C\n",
              "1141         CC(=O)CC(c1ccccc1)c3c(O)c2ccccc2oc3=O \n",
              "1142    Cc1cccc(C)c1NC(=O)c2cc(c(Cl)cc2O)S(N)(=O)=O\n",
              "1143                         CNC(=O)Oc1cc(C)cc(C)c1\n",
              "Name: SMILES, Length: 1144, dtype: object"
            ]
          },
          "metadata": {
            "tags": []
          },
          "execution_count": 10
        }
      ]
    },
    {
      "cell_type": "markdown",
      "metadata": {
        "id": "f-oLUP-Bte1U"
      },
      "source": [
        "**Convert SMILES to rdkit object**"
      ]
    },
    {
      "cell_type": "code",
      "metadata": {
        "id": "1yWjYpSstsVm"
      },
      "source": [
        "from rdkit import Chem"
      ],
      "execution_count": null,
      "outputs": []
    },
    {
      "cell_type": "code",
      "metadata": {
        "id": "ByTIBvDLt7nM"
      },
      "source": [
        "rdlist = []\n",
        "for i in data.SMILES:\n",
        "  x= Chem.MolFromSmiles(i)\n",
        "  rdlist.append(x)\n"
      ],
      "execution_count": null,
      "outputs": []
    },
    {
      "cell_type": "markdown",
      "metadata": {
        "id": "CxcO6ikLvGZ7"
      },
      "source": [
        "**Calculation of the Molecular Descriptors used in the study**\n",
        "\n",
        "To predict LogS (log of the aqueous solubility), the study by Delaney makes use of 4 molecular descriptors:\n",
        "\n",
        "cLogP (Octanol-water partition coefficient)\n",
        "\n",
        "MW (Molecular weight)\n",
        "\n",
        "RB (Number of rotatable bonds)\n",
        "\n",
        "AP (Aromatic proportion = number of aromatic atoms / total number of heavy atoms)\n",
        "\n",
        "Unfortunately, rdkit readily computes the first 3. AP descriptor will be computed manually by the ratio of the number of aromatic atoms to the total number of heavy atoms which rdkit can compute."
      ]
    },
    {
      "cell_type": "code",
      "metadata": {
        "id": "Yr2Eg-ndxwOv"
      },
      "source": [
        "import numpy as np\n",
        "from rdkit.Chem import Descriptors"
      ],
      "execution_count": null,
      "outputs": []
    },
    {
      "cell_type": "code",
      "metadata": {
        "id": "g55CYa7CvNXl"
      },
      "source": [
        "def generate(smiles, verbose=False):\n",
        "\n",
        "    moldescdata= [] #convert the smiles into rdkit object\n",
        "    for i in smiles:\n",
        "        x=Chem.MolFromSmiles(i) \n",
        "        moldescdata.append(x)\n",
        "       \n",
        "    baseData= np.arange(1,1)\n",
        "    j=0  \n",
        "    for x in moldescdata:        \n",
        "       \n",
        "        d_MolLogP = Descriptors.MolLogP(x)\n",
        "        d_MolWt = Descriptors.MolWt(x)\n",
        "        d_NumRotatableBonds = Descriptors.NumRotatableBonds(x)\n",
        "           \n",
        "        row = np.array([d_MolLogP, d_MolWt, d_NumRotatableBonds])   #numpy array for the arrangement of 3 MD\n",
        "    \n",
        "        if(j==0):\n",
        "            baseData=row\n",
        "        else:\n",
        "            baseData=np.vstack([baseData, row])\n",
        "        j = j+1     \n",
        "    \n",
        "    columnNames=[\"MolLogP\",\"MolWt\",\"NumRotatableBonds\"]   \n",
        "    descriptors = pd.DataFrame(data=baseData,columns=columnNames) #pandas data frame \n",
        "    \n",
        "    return descriptors"
      ],
      "execution_count": null,
      "outputs": []
    },
    {
      "cell_type": "code",
      "metadata": {
        "id": "FROqOAzhxSQ6",
        "colab": {
          "base_uri": "https://localhost:8080/",
          "height": 419
        },
        "outputId": "9f378c9d-d852-447c-bdd4-68de5297842f"
      },
      "source": [
        "desc3 = generate(data.SMILES)\n",
        "desc3"
      ],
      "execution_count": null,
      "outputs": [
        {
          "output_type": "execute_result",
          "data": {
            "text/html": [
              "<div>\n",
              "<style scoped>\n",
              "    .dataframe tbody tr th:only-of-type {\n",
              "        vertical-align: middle;\n",
              "    }\n",
              "\n",
              "    .dataframe tbody tr th {\n",
              "        vertical-align: top;\n",
              "    }\n",
              "\n",
              "    .dataframe thead th {\n",
              "        text-align: right;\n",
              "    }\n",
              "</style>\n",
              "<table border=\"1\" class=\"dataframe\">\n",
              "  <thead>\n",
              "    <tr style=\"text-align: right;\">\n",
              "      <th></th>\n",
              "      <th>MolLogP</th>\n",
              "      <th>MolWt</th>\n",
              "      <th>NumRotatableBonds</th>\n",
              "    </tr>\n",
              "  </thead>\n",
              "  <tbody>\n",
              "    <tr>\n",
              "      <th>0</th>\n",
              "      <td>2.59540</td>\n",
              "      <td>167.850</td>\n",
              "      <td>0.0</td>\n",
              "    </tr>\n",
              "    <tr>\n",
              "      <th>1</th>\n",
              "      <td>2.37650</td>\n",
              "      <td>133.405</td>\n",
              "      <td>0.0</td>\n",
              "    </tr>\n",
              "    <tr>\n",
              "      <th>2</th>\n",
              "      <td>2.59380</td>\n",
              "      <td>167.850</td>\n",
              "      <td>1.0</td>\n",
              "    </tr>\n",
              "    <tr>\n",
              "      <th>3</th>\n",
              "      <td>2.02890</td>\n",
              "      <td>133.405</td>\n",
              "      <td>1.0</td>\n",
              "    </tr>\n",
              "    <tr>\n",
              "      <th>4</th>\n",
              "      <td>2.91890</td>\n",
              "      <td>187.375</td>\n",
              "      <td>1.0</td>\n",
              "    </tr>\n",
              "    <tr>\n",
              "      <th>...</th>\n",
              "      <td>...</td>\n",
              "      <td>...</td>\n",
              "      <td>...</td>\n",
              "    </tr>\n",
              "    <tr>\n",
              "      <th>1139</th>\n",
              "      <td>1.98820</td>\n",
              "      <td>287.343</td>\n",
              "      <td>8.0</td>\n",
              "    </tr>\n",
              "    <tr>\n",
              "      <th>1140</th>\n",
              "      <td>3.42130</td>\n",
              "      <td>286.114</td>\n",
              "      <td>2.0</td>\n",
              "    </tr>\n",
              "    <tr>\n",
              "      <th>1141</th>\n",
              "      <td>3.60960</td>\n",
              "      <td>308.333</td>\n",
              "      <td>4.0</td>\n",
              "    </tr>\n",
              "    <tr>\n",
              "      <th>1142</th>\n",
              "      <td>2.56214</td>\n",
              "      <td>354.815</td>\n",
              "      <td>3.0</td>\n",
              "    </tr>\n",
              "    <tr>\n",
              "      <th>1143</th>\n",
              "      <td>2.02164</td>\n",
              "      <td>179.219</td>\n",
              "      <td>1.0</td>\n",
              "    </tr>\n",
              "  </tbody>\n",
              "</table>\n",
              "<p>1144 rows × 3 columns</p>\n",
              "</div>"
            ],
            "text/plain": [
              "      MolLogP    MolWt  NumRotatableBonds\n",
              "0     2.59540  167.850                0.0\n",
              "1     2.37650  133.405                0.0\n",
              "2     2.59380  167.850                1.0\n",
              "3     2.02890  133.405                1.0\n",
              "4     2.91890  187.375                1.0\n",
              "...       ...      ...                ...\n",
              "1139  1.98820  287.343                8.0\n",
              "1140  3.42130  286.114                2.0\n",
              "1141  3.60960  308.333                4.0\n",
              "1142  2.56214  354.815                3.0\n",
              "1143  2.02164  179.219                1.0\n",
              "\n",
              "[1144 rows x 3 columns]"
            ]
          },
          "metadata": {
            "tags": []
          },
          "execution_count": 16
        }
      ]
    },
    {
      "cell_type": "markdown",
      "metadata": {
        "id": "g9u3flYDx-bO"
      },
      "source": [
        "**Molecular Descriptor Aromatic Proportion (AP)**"
      ]
    },
    {
      "cell_type": "markdown",
      "metadata": {
        "id": "FoegbjHuGu-5"
      },
      "source": [
        "**  (a) Number of Aromatic Atoms **"
      ]
    },
    {
      "cell_type": "code",
      "metadata": {
        "id": "FUNZxEcJDEKb"
      },
      "source": [
        "def AromaticAtoms(x):\n",
        "  is_aromatic = [x.GetAtomWithIdx(i).GetIsAromatic() for i in range(x.GetNumAtoms())]\n",
        "  count = 0\n",
        "  for i in is_aromatic:\n",
        "    if i == True:\n",
        "      count =count +1\n",
        "  return count\n"
      ],
      "execution_count": null,
      "outputs": []
    },
    {
      "cell_type": "code",
      "metadata": {
        "id": "kOhG82LQEMVi"
      },
      "source": [
        "d_aromaticatoms = []\n",
        "for i in rdlist:\n",
        "  d_aromaticatoms.append(AromaticAtoms(i))\n",
        "d_aromaticatoms"
      ],
      "execution_count": null,
      "outputs": []
    },
    {
      "cell_type": "markdown",
      "metadata": {
        "id": "6eH1bjHSHCNl"
      },
      "source": [
        "**  (b) Number of heavy atoms**"
      ]
    },
    {
      "cell_type": "code",
      "metadata": {
        "id": "kGXmCJv8HJiy"
      },
      "source": [
        "d_heavyatoms = []\n",
        "for i in rdlist:\n",
        "  d_heavyatoms.append(Descriptors.HeavyAtomCount(i))\n",
        "d_heavyatoms"
      ],
      "execution_count": null,
      "outputs": []
    },
    {
      "cell_type": "markdown",
      "metadata": {
        "id": "tZ6zpt8_ICEW"
      },
      "source": [
        "**  AP = AromaticAtoms/HeavyAtoms**"
      ]
    },
    {
      "cell_type": "code",
      "metadata": {
        "id": "yyewUmJcILY8"
      },
      "source": [
        "d_AP = []\n",
        "for i in rdlist:\n",
        "  d_AP.append(AromaticAtoms(i)/Descriptors.HeavyAtomCount(i))\n",
        "d_AP"
      ],
      "execution_count": null,
      "outputs": []
    },
    {
      "cell_type": "markdown",
      "metadata": {
        "id": "--65wjMmKMpc"
      },
      "source": [
        "**Now that we have calculated all the 4 descriptors in order to predict the solubility, we will concatenate all the descriptors data in one table**"
      ]
    },
    {
      "cell_type": "code",
      "metadata": {
        "id": "Vsy39UNAKdz0"
      },
      "source": [
        "df_d_AP = pd.DataFrame(d_AP,columns = ['AromaticProportion'])\n",
        "df_d_AP"
      ],
      "execution_count": null,
      "outputs": []
    },
    {
      "cell_type": "code",
      "metadata": {
        "id": "kkTQra0dLe7J",
        "colab": {
          "base_uri": "https://localhost:8080/",
          "height": 419
        },
        "outputId": "2bcdd1c2-afb0-4599-e33e-9bb556a0f38b"
      },
      "source": [
        "X_desc4 = pd.concat([desc3,df_d_AP], axis = 1)\n",
        "X_desc4"
      ],
      "execution_count": null,
      "outputs": [
        {
          "output_type": "execute_result",
          "data": {
            "text/html": [
              "<div>\n",
              "<style scoped>\n",
              "    .dataframe tbody tr th:only-of-type {\n",
              "        vertical-align: middle;\n",
              "    }\n",
              "\n",
              "    .dataframe tbody tr th {\n",
              "        vertical-align: top;\n",
              "    }\n",
              "\n",
              "    .dataframe thead th {\n",
              "        text-align: right;\n",
              "    }\n",
              "</style>\n",
              "<table border=\"1\" class=\"dataframe\">\n",
              "  <thead>\n",
              "    <tr style=\"text-align: right;\">\n",
              "      <th></th>\n",
              "      <th>MolLogP</th>\n",
              "      <th>MolWt</th>\n",
              "      <th>NumRotatableBonds</th>\n",
              "      <th>AromaticProportion</th>\n",
              "    </tr>\n",
              "  </thead>\n",
              "  <tbody>\n",
              "    <tr>\n",
              "      <th>0</th>\n",
              "      <td>2.59540</td>\n",
              "      <td>167.850</td>\n",
              "      <td>0.0</td>\n",
              "      <td>0.000000</td>\n",
              "    </tr>\n",
              "    <tr>\n",
              "      <th>1</th>\n",
              "      <td>2.37650</td>\n",
              "      <td>133.405</td>\n",
              "      <td>0.0</td>\n",
              "      <td>0.000000</td>\n",
              "    </tr>\n",
              "    <tr>\n",
              "      <th>2</th>\n",
              "      <td>2.59380</td>\n",
              "      <td>167.850</td>\n",
              "      <td>1.0</td>\n",
              "      <td>0.000000</td>\n",
              "    </tr>\n",
              "    <tr>\n",
              "      <th>3</th>\n",
              "      <td>2.02890</td>\n",
              "      <td>133.405</td>\n",
              "      <td>1.0</td>\n",
              "      <td>0.000000</td>\n",
              "    </tr>\n",
              "    <tr>\n",
              "      <th>4</th>\n",
              "      <td>2.91890</td>\n",
              "      <td>187.375</td>\n",
              "      <td>1.0</td>\n",
              "      <td>0.000000</td>\n",
              "    </tr>\n",
              "    <tr>\n",
              "      <th>...</th>\n",
              "      <td>...</td>\n",
              "      <td>...</td>\n",
              "      <td>...</td>\n",
              "      <td>...</td>\n",
              "    </tr>\n",
              "    <tr>\n",
              "      <th>1139</th>\n",
              "      <td>1.98820</td>\n",
              "      <td>287.343</td>\n",
              "      <td>8.0</td>\n",
              "      <td>0.000000</td>\n",
              "    </tr>\n",
              "    <tr>\n",
              "      <th>1140</th>\n",
              "      <td>3.42130</td>\n",
              "      <td>286.114</td>\n",
              "      <td>2.0</td>\n",
              "      <td>0.333333</td>\n",
              "    </tr>\n",
              "    <tr>\n",
              "      <th>1141</th>\n",
              "      <td>3.60960</td>\n",
              "      <td>308.333</td>\n",
              "      <td>4.0</td>\n",
              "      <td>0.695652</td>\n",
              "    </tr>\n",
              "    <tr>\n",
              "      <th>1142</th>\n",
              "      <td>2.56214</td>\n",
              "      <td>354.815</td>\n",
              "      <td>3.0</td>\n",
              "      <td>0.521739</td>\n",
              "    </tr>\n",
              "    <tr>\n",
              "      <th>1143</th>\n",
              "      <td>2.02164</td>\n",
              "      <td>179.219</td>\n",
              "      <td>1.0</td>\n",
              "      <td>0.461538</td>\n",
              "    </tr>\n",
              "  </tbody>\n",
              "</table>\n",
              "<p>1144 rows × 4 columns</p>\n",
              "</div>"
            ],
            "text/plain": [
              "      MolLogP    MolWt  NumRotatableBonds  AromaticProportion\n",
              "0     2.59540  167.850                0.0            0.000000\n",
              "1     2.37650  133.405                0.0            0.000000\n",
              "2     2.59380  167.850                1.0            0.000000\n",
              "3     2.02890  133.405                1.0            0.000000\n",
              "4     2.91890  187.375                1.0            0.000000\n",
              "...       ...      ...                ...                 ...\n",
              "1139  1.98820  287.343                8.0            0.000000\n",
              "1140  3.42130  286.114                2.0            0.333333\n",
              "1141  3.60960  308.333                4.0            0.695652\n",
              "1142  2.56214  354.815                3.0            0.521739\n",
              "1143  2.02164  179.219                1.0            0.461538\n",
              "\n",
              "[1144 rows x 4 columns]"
            ]
          },
          "metadata": {
            "tags": []
          },
          "execution_count": 27
        }
      ]
    },
    {
      "cell_type": "markdown",
      "metadata": {
        "id": "serkbqKeNKvT"
      },
      "source": [
        "**Y Matrix (that has to be predicted by the X matrix values)**"
      ]
    },
    {
      "cell_type": "code",
      "metadata": {
        "id": "4WBFQ9iANSJi",
        "colab": {
          "base_uri": "https://localhost:8080/"
        },
        "outputId": "79f91c17-a12e-4db9-d161-5ee808392c7a"
      },
      "source": [
        "Y = data.iloc[:,1]\n",
        "Y"
      ],
      "execution_count": null,
      "outputs": [
        {
          "output_type": "execute_result",
          "data": {
            "text/plain": [
              "0      -2.180\n",
              "1      -2.000\n",
              "2      -1.740\n",
              "3      -1.480\n",
              "4      -3.040\n",
              "        ...  \n",
              "1139    1.144\n",
              "1140   -4.925\n",
              "1141   -3.893\n",
              "1142   -3.790\n",
              "1143   -2.581\n",
              "Name: measured log(solubility:mol/L), Length: 1144, dtype: float64"
            ]
          },
          "metadata": {
            "tags": []
          },
          "execution_count": 28
        }
      ]
    },
    {
      "cell_type": "markdown",
      "metadata": {
        "id": "Lt6NvuMpOVin"
      },
      "source": [
        "**Data Spliting and generating a linear regression model**\n",
        "\n",
        "   (A) First Train and Test split and linear regression \n",
        "   \n",
        "   (B) Second Full dataset linear regression"
      ]
    },
    {
      "cell_type": "code",
      "metadata": {
        "id": "L7AajvTzOxzM"
      },
      "source": [
        "from sklearn.model_selection import train_test_split"
      ],
      "execution_count": null,
      "outputs": []
    },
    {
      "cell_type": "code",
      "metadata": {
        "id": "XCYtrPzLSTGS"
      },
      "source": [
        "Xtrain, Xtest, Ytrain, Ytest = train_test_split(X_desc4, Y, test_size=0.3) #30% test size"
      ],
      "execution_count": null,
      "outputs": []
    },
    {
      "cell_type": "code",
      "metadata": {
        "id": "t9JBMMUgSe5U"
      },
      "source": [
        "from sklearn import linear_model\n",
        "from sklearn.metrics import mean_squared_error, r2_score"
      ],
      "execution_count": null,
      "outputs": []
    },
    {
      "cell_type": "code",
      "metadata": {
        "colab": {
          "base_uri": "https://localhost:8080/"
        },
        "id": "MxsLcPpK4GFy",
        "outputId": "1c80febb-4b5e-4d9b-bb26-19afab382529"
      },
      "source": [
        "regressmodel = linear_model.LinearRegression()\n",
        "regressmodel.fit(Xtrain, Ytrain)"
      ],
      "execution_count": null,
      "outputs": [
        {
          "output_type": "execute_result",
          "data": {
            "text/plain": [
              "LinearRegression(copy_X=True, fit_intercept=True, n_jobs=None, normalize=False)"
            ]
          },
          "metadata": {
            "tags": []
          },
          "execution_count": 37
        }
      ]
    },
    {
      "cell_type": "markdown",
      "metadata": {
        "id": "hIahjDL14sHQ"
      },
      "source": [
        "Prediction of the Xtrain - For comparitive purposes"
      ]
    },
    {
      "cell_type": "code",
      "metadata": {
        "colab": {
          "base_uri": "https://localhost:8080/"
        },
        "id": "6rNlgPTn43Q-",
        "outputId": "4cd51175-d648-4990-c62d-cc6cf5c15a7a"
      },
      "source": [
        "YPredicttrain = regressmodel.predict(Xtrain)\n",
        "print(\"Coefficients = \", regressmodel.coef_)\n",
        "print(\"Intercept = \", regressmodel.intercept_)\n",
        "print(\"Mean squared error = %.3f\" % mean_squared_error(Ytrain, YPredicttrain))\n",
        "print(\"Pearsons Correlation coeffcient squared (R^2) = %.3f\" % r2_score(Ytrain, YPredicttrain)) #Coeffcient of determination"
      ],
      "execution_count": null,
      "outputs": [
        {
          "output_type": "stream",
          "text": [
            "Coefficients =  [-0.72002698 -0.00687682  0.01578578 -0.42756753]\n",
            "Intercept =  0.21739022627075677\n",
            "Mean squared error = 0.987\n",
            "Pearsons Correlation coeffcient squared (R^2) = 0.772\n"
          ],
          "name": "stdout"
        }
      ]
    },
    {
      "cell_type": "markdown",
      "metadata": {
        "id": "jZ-gAls59iPo"
      },
      "source": [
        "Prediction of Xtest - for comparitive purposes"
      ]
    },
    {
      "cell_type": "code",
      "metadata": {
        "colab": {
          "base_uri": "https://localhost:8080/"
        },
        "id": "zSVHi0HA9mYb",
        "outputId": "8fc404bb-27ba-4651-c7ef-136db433a3e5"
      },
      "source": [
        "YPredicttest = regressmodel.predict(Xtest)\n",
        "print(\"Coefficients = \" + regressmodel.coef_)\n",
        "print(\"Intercept = \" + regressmodel.intercept_)\n",
        "print(\"Mean squared error = %.3f\" % mean_squared_error(Ytest, YPredicttest))\n",
        "print(\"Pearsons Correlation coeffcient squared (R^2) = %.3f\" % r2_score(Ytest, YPredicttest)) #Coeffcient of determination"
      ],
      "execution_count": null,
      "outputs": [
        {
          "output_type": "stream",
          "text": [
            "Coefficients =  [-0.72002698 -0.00687682  0.01578578 -0.42756753]\n",
            "Intercept =  0.21739022627075677\n",
            "Mean squared error = 1.071\n",
            "Pearsons Correlation coeffcient squared (R^2) = 0.764\n"
          ],
          "name": "stdout"
        }
      ]
    },
    {
      "cell_type": "markdown",
      "metadata": {
        "id": "UsNYmr06-Ba2"
      },
      "source": [
        "# Linear regression Equation"
      ]
    },
    {
      "cell_type": "markdown",
      "metadata": {
        "id": "15F1YTZs-Ex2"
      },
      "source": [
        "Full Dataset model\n",
        "\n",
        "LogS = 0.22 (Y-intercept) - 0.72LogP - 0.0069MW + 0.0158RB - 0.428AP\n",
        "\n",
        "4 Descriptors and the numbers are the regression coeffcients"
      ]
    },
    {
      "cell_type": "code",
      "metadata": {
        "colab": {
          "base_uri": "https://localhost:8080/"
        },
        "id": "Piq8dwwCAOK6",
        "outputId": "8bb05233-0443-4a90-a0da-d14a47af82fc"
      },
      "source": [
        "print(\"LogS = %.3f %.3f LogP %.3f MW %.3f RB %.3f AP\" %(regressmodel.intercept_, regressmodel.coef_[0], regressmodel.coef_[1], regressmodel.coef_[2], regressmodel.coef_[3]))"
      ],
      "execution_count": null,
      "outputs": [
        {
          "output_type": "stream",
          "text": [
            "LogS = 0.217 -0.720 LogP -0.007 MW 0.016 RB -0.428 AP\n"
          ],
          "name": "stdout"
        }
      ]
    },
    {
      "cell_type": "markdown",
      "metadata": {
        "id": "BqDcofjmCREW"
      },
      "source": [
        "Scatter plot of the predicted value vs the experimental value"
      ]
    },
    {
      "cell_type": "code",
      "metadata": {
        "id": "HIRmIrmACm1H"
      },
      "source": [
        "import matplotlib.pyplot as plot"
      ],
      "execution_count": null,
      "outputs": []
    },
    {
      "cell_type": "code",
      "metadata": {
        "colab": {
          "base_uri": "https://localhost:8080/"
        },
        "id": "4MXHrgo4C9by",
        "outputId": "0ee7ffca-a16e-4a88-f9a5-14adab0bb883"
      },
      "source": [
        "Ytrain.shape, YPredicttrain.shape, Ytest.shape, YPredicttest.shape"
      ],
      "execution_count": null,
      "outputs": [
        {
          "output_type": "execute_result",
          "data": {
            "text/plain": [
              "((800,), (800,), (344,), (344,))"
            ]
          },
          "metadata": {
            "tags": []
          },
          "execution_count": 45
        }
      ]
    },
    {
      "cell_type": "markdown",
      "metadata": {
        "id": "V1pXM36jDO5f"
      },
      "source": [
        "# Horizontal Plot"
      ]
    },
    {
      "cell_type": "code",
      "metadata": {
        "colab": {
          "base_uri": "https://localhost:8080/",
          "height": 388
        },
        "id": "hmuu-FaEDSA_",
        "outputId": "f07222bc-f3c1-4177-e7c3-3cc7e4b82a49"
      },
      "source": [
        "plot.figure(figsize = (12, 6))\n",
        "\n",
        "#Plot 1\n",
        "plot.subplot(1, 2, 1) #2 rows for 2 graphs, 1 column and first graph\n",
        "plot.scatter(x = Ytrain, y = YPredicttrain, c = \"#00FF13\", alpha = 0.2)\n",
        "\n",
        "#Add trendline\n",
        "fit = np.polyfit(Ytrain, YPredicttrain, 1)\n",
        "trend = np.poly1d(fit)\n",
        "plot.plot(Ytest, trend(Ytest), \"#FF2D00\")\n",
        "\n",
        "#Add axis labels\n",
        "plot.xlabel(\"Experimental LogS\")\n",
        "plot.ylabel(\"Predicted LogS\")\n",
        "\n",
        "#Plot 2\n",
        "plot.subplot(1, 2, 2)\n",
        "plot.scatter(x = Ytest, y = YPredicttest, c = \"#F000FF\", alpha = 0.2)\n",
        "\n",
        "fit = np.polyfit(Ytest, YPredicttest, 1)\n",
        "trend = np.poly1d(fit)\n",
        "plot.plot(Ytest, trend(Ytest), \"#FF2D00\")\n",
        "\n",
        "plot.xlabel(\"Experimental LogS\")\n",
        "plot.ylabel(\"Predicted LogS\")\n",
        "\n",
        "plot.savefig(\"Verticalplot.pdf\")\n",
        "plot.show()"
      ],
      "execution_count": null,
      "outputs": [
        {
          "output_type": "display_data",
          "data": {
            "image/png": "[encoded data removed]",
            "text/plain": [
              "<Figure size 864x432 with 2 Axes>"
            ]
          },
          "metadata": {
            "tags": [],
            "needs_background": "light"
          }
        }
      ]
    }
  ]
}